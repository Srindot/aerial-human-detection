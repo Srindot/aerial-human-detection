{
 "cells": [
  {
   "cell_type": "markdown",
   "id": "6c4f4a46",
   "metadata": {},
   "source": [
    "# Fine tuning Yolo v8"
   ]
  },
  {
   "cell_type": "markdown",
   "id": "96d5b20c",
   "metadata": {},
   "source": [
    "The dataset is available "
   ]
  },
  {
   "cell_type": "code",
   "execution_count": null,
   "id": "fd49b551",
   "metadata": {},
   "outputs": [
    {
     "name": "stdout",
     "output_type": "stream",
     "text": [
      "New https://pypi.org/project/ultralytics/8.3.141 available 😃 Update with 'pip install -U ultralytics'\n",
      "Ultralytics 8.3.43 🚀 Python-3.8.20 torch-2.4.0+cu121 CUDA:0 (NVIDIA GeForce RTX 3050 Ti Laptop GPU, 3780MiB)\n",
      "\u001b[34m\u001b[1mengine/trainer: \u001b[0mtask=detect, mode=train, model=yolov8n.pt, data=data2.yaml, epochs=10, time=None, patience=100, batch=16, imgsz=640, save=True, save_period=-1, cache=False, device=None, workers=8, project=None, name=person_detector5, exist_ok=False, pretrained=True, optimizer=auto, verbose=True, seed=0, deterministic=True, single_cls=False, rect=False, cos_lr=False, close_mosaic=10, resume=False, amp=True, fraction=1.0, profile=False, freeze=None, multi_scale=False, overlap_mask=True, mask_ratio=4, dropout=0.0, val=True, split=val, save_json=False, save_hybrid=False, conf=None, iou=0.7, max_det=300, half=False, dnn=False, plots=True, source=None, vid_stride=1, stream_buffer=False, visualize=False, augment=False, agnostic_nms=False, classes=None, retina_masks=False, embed=None, show=False, save_frames=False, save_txt=False, save_conf=False, save_crop=False, show_labels=True, show_conf=True, show_boxes=True, line_width=None, format=torchscript, keras=False, optimize=False, int8=False, dynamic=False, simplify=True, opset=None, workspace=None, nms=False, lr0=0.01, lrf=0.01, momentum=0.937, weight_decay=0.0005, warmup_epochs=3.0, warmup_momentum=0.8, warmup_bias_lr=0.1, box=7.5, cls=0.5, dfl=1.5, pose=12.0, kobj=1.0, nbs=64, hsv_h=0.015, hsv_s=0.7, hsv_v=0.4, degrees=0.0, translate=0.1, scale=0.5, shear=0.0, perspective=0.0, flipud=0.0, fliplr=0.5, bgr=0.0, mosaic=1.0, mixup=0.0, copy_paste=0.0, copy_paste_mode=flip, auto_augment=randaugment, erasing=0.4, crop_fraction=1.0, cfg=None, tracker=botsort.yaml, save_dir=runs/detect/person_detector5\n",
      "Overriding model.yaml nc=80 with nc=1\n",
      "\n",
      "                   from  n    params  module                                       arguments                     \n",
      "  0                  -1  1       464  ultralytics.nn.modules.conv.Conv             [3, 16, 3, 2]                 \n",
      "  1                  -1  1      4672  ultralytics.nn.modules.conv.Conv             [16, 32, 3, 2]                \n",
      "  2                  -1  1      7360  ultralytics.nn.modules.block.C2f             [32, 32, 1, True]             \n",
      "  3                  -1  1     18560  ultralytics.nn.modules.conv.Conv             [32, 64, 3, 2]                \n",
      "  4                  -1  2     49664  ultralytics.nn.modules.block.C2f             [64, 64, 2, True]             \n",
      "  5                  -1  1     73984  ultralytics.nn.modules.conv.Conv             [64, 128, 3, 2]               \n",
      "  6                  -1  2    197632  ultralytics.nn.modules.block.C2f             [128, 128, 2, True]           \n",
      "  7                  -1  1    295424  ultralytics.nn.modules.conv.Conv             [128, 256, 3, 2]              \n",
      "  8                  -1  1    460288  ultralytics.nn.modules.block.C2f             [256, 256, 1, True]           \n",
      "  9                  -1  1    164608  ultralytics.nn.modules.block.SPPF            [256, 256, 5]                 \n",
      " 10                  -1  1         0  torch.nn.modules.upsampling.Upsample         [None, 2, 'nearest']          \n",
      " 11             [-1, 6]  1         0  ultralytics.nn.modules.conv.Concat           [1]                           \n",
      " 12                  -1  1    148224  ultralytics.nn.modules.block.C2f             [384, 128, 1]                 \n",
      " 13                  -1  1         0  torch.nn.modules.upsampling.Upsample         [None, 2, 'nearest']          \n",
      " 14             [-1, 4]  1         0  ultralytics.nn.modules.conv.Concat           [1]                           \n",
      " 15                  -1  1     37248  ultralytics.nn.modules.block.C2f             [192, 64, 1]                  \n",
      " 16                  -1  1     36992  ultralytics.nn.modules.conv.Conv             [64, 64, 3, 2]                \n",
      " 17            [-1, 12]  1         0  ultralytics.nn.modules.conv.Concat           [1]                           \n",
      " 18                  -1  1    123648  ultralytics.nn.modules.block.C2f             [192, 128, 1]                 \n",
      " 19                  -1  1    147712  ultralytics.nn.modules.conv.Conv             [128, 128, 3, 2]              \n",
      " 20             [-1, 9]  1         0  ultralytics.nn.modules.conv.Concat           [1]                           \n",
      " 21                  -1  1    493056  ultralytics.nn.modules.block.C2f             [384, 256, 1]                 \n",
      " 22        [15, 18, 21]  1    751507  ultralytics.nn.modules.head.Detect           [1, [64, 128, 256]]           \n",
      "Model summary: 225 layers, 3,011,043 parameters, 3,011,027 gradients, 8.2 GFLOPs\n",
      "\n",
      "Transferred 319/355 items from pretrained weights\n",
      "Freezing layer 'model.22.dfl.conv.weight'\n",
      "\u001b[34m\u001b[1mAMP: \u001b[0mrunning Automatic Mixed Precision (AMP) checks...\n",
      "Downloading https://github.com/ultralytics/assets/releases/download/v8.3.0/yolo11n.pt to 'yolo11n.pt'...\n"
     ]
    },
    {
     "name": "stderr",
     "output_type": "stream",
     "text": [
      "100%|██████████| 5.35M/5.35M [00:00<00:00, 13.4MB/s]\n"
     ]
    },
    {
     "name": "stdout",
     "output_type": "stream",
     "text": [
      "\u001b[34m\u001b[1mAMP: \u001b[0mchecks passed ✅\n"
     ]
    },
    {
     "name": "stderr",
     "output_type": "stream",
     "text": [
      "\u001b[34m\u001b[1mtrain: \u001b[0mScanning /home/stimpy/projects/nidar_competition/Dataset/Dataset2/train/train.cache... 4300 images, 0 backgrounds, 0 corrupt: 100%|██████████| 4300/4300 [00:00<?, ?it/s]"
     ]
    },
    {
     "name": "stdout",
     "output_type": "stream",
     "text": [
      "\u001b[34m\u001b[1mtrain: \u001b[0mWARNING ⚠️ /home/stimpy/projects/nidar_competition/Dataset/Dataset2/train/train/cam5_1hour_00000011.jpg: 1 duplicate labels removed\n",
      "\u001b[34m\u001b[1mtrain: \u001b[0mWARNING ⚠️ /home/stimpy/projects/nidar_competition/Dataset/Dataset2/train/train/cam5_1hour_00000012.jpg: 1 duplicate labels removed\n",
      "\u001b[34m\u001b[1mtrain: \u001b[0mWARNING ⚠️ /home/stimpy/projects/nidar_competition/Dataset/Dataset2/train/train/cam5_1hour_00000014.jpg: 1 duplicate labels removed\n",
      "\u001b[34m\u001b[1mtrain: \u001b[0mWARNING ⚠️ /home/stimpy/projects/nidar_competition/Dataset/Dataset2/train/train/cam6_1hour_00000135.jpg: 8 duplicate labels removed\n",
      "\u001b[34m\u001b[1mtrain: \u001b[0mWARNING ⚠️ /home/stimpy/projects/nidar_competition/Dataset/Dataset2/train/train/cam_1_trimmed_00000001.jpg: 2 duplicate labels removed\n",
      "\u001b[34m\u001b[1mtrain: \u001b[0mWARNING ⚠️ /home/stimpy/projects/nidar_competition/Dataset/Dataset2/train/train/cam_2_2_and_helf_mins_00000009.jpg: 1 duplicate labels removed\n",
      "\u001b[34m\u001b[1mtrain: \u001b[0mWARNING ⚠️ /home/stimpy/projects/nidar_competition/Dataset/Dataset2/train/train/cam_2_2_and_helf_mins_00000056.jpg: 2 duplicate labels removed\n",
      "\u001b[34m\u001b[1mtrain: \u001b[0mWARNING ⚠️ /home/stimpy/projects/nidar_competition/Dataset/Dataset2/train/train/cam_2_2_and_helf_mins_00000057.jpg: 2 duplicate labels removed\n",
      "\u001b[34m\u001b[1mtrain: \u001b[0mWARNING ⚠️ /home/stimpy/projects/nidar_competition/Dataset/Dataset2/train/train/cam_2_2_and_helf_mins_00000351.jpg: 4 duplicate labels removed\n",
      "\u001b[34m\u001b[1mtrain: \u001b[0mWARNING ⚠️ /home/stimpy/projects/nidar_competition/Dataset/Dataset2/train/train/cam_3_2_and_helf_mins_00000065.jpg: 1 duplicate labels removed\n",
      "\u001b[34m\u001b[1mtrain: \u001b[0mWARNING ⚠️ /home/stimpy/projects/nidar_competition/Dataset/Dataset2/train/train/cam_3_trimmed_00000080.jpg: 3 duplicate labels removed\n",
      "\u001b[34m\u001b[1mtrain: \u001b[0mWARNING ⚠️ /home/stimpy/projects/nidar_competition/Dataset/Dataset2/train/train/cam_3_trimmed_00000081.jpg: 2 duplicate labels removed\n",
      "\u001b[34m\u001b[1mtrain: \u001b[0mWARNING ⚠️ /home/stimpy/projects/nidar_competition/Dataset/Dataset2/train/train/cam_3_trimmed_00000082.jpg: 1 duplicate labels removed\n",
      "\u001b[34m\u001b[1mtrain: \u001b[0mWARNING ⚠️ /home/stimpy/projects/nidar_competition/Dataset/Dataset2/train/train/cam_3_trimmed_00000083.jpg: 2 duplicate labels removed\n",
      "\u001b[34m\u001b[1mtrain: \u001b[0mWARNING ⚠️ /home/stimpy/projects/nidar_competition/Dataset/Dataset2/train/train/cam_3_trimmed_00000084.jpg: 3 duplicate labels removed\n",
      "\u001b[34m\u001b[1mtrain: \u001b[0mWARNING ⚠️ /home/stimpy/projects/nidar_competition/Dataset/Dataset2/train/train/cam_3_trimmed_00000085.jpg: 1 duplicate labels removed\n",
      "\u001b[34m\u001b[1mtrain: \u001b[0mWARNING ⚠️ /home/stimpy/projects/nidar_competition/Dataset/Dataset2/train/train/cam_3_trimmed_00000088.jpg: 1 duplicate labels removed\n",
      "\u001b[34m\u001b[1mtrain: \u001b[0mWARNING ⚠️ /home/stimpy/projects/nidar_competition/Dataset/Dataset2/train/train/cam_3_trimmed_00000089.jpg: 1 duplicate labels removed\n",
      "\u001b[34m\u001b[1mtrain: \u001b[0mWARNING ⚠️ /home/stimpy/projects/nidar_competition/Dataset/Dataset2/train/train/cam_3_trimmed_00000090.jpg: 2 duplicate labels removed\n",
      "\u001b[34m\u001b[1mtrain: \u001b[0mWARNING ⚠️ /home/stimpy/projects/nidar_competition/Dataset/Dataset2/train/train/cam_3_trimmed_00000091.jpg: 1 duplicate labels removed\n",
      "\u001b[34m\u001b[1mtrain: \u001b[0mWARNING ⚠️ /home/stimpy/projects/nidar_competition/Dataset/Dataset2/train/train/cam_3_trimmed_00000092.jpg: 2 duplicate labels removed\n",
      "\u001b[34m\u001b[1mtrain: \u001b[0mWARNING ⚠️ /home/stimpy/projects/nidar_competition/Dataset/Dataset2/train/train/cam_3_trimmed_00000096.jpg: 1 duplicate labels removed\n",
      "\u001b[34m\u001b[1mtrain: \u001b[0mWARNING ⚠️ /home/stimpy/projects/nidar_competition/Dataset/Dataset2/train/train/cam_3_trimmed_00000097.jpg: 1 duplicate labels removed\n",
      "\u001b[34m\u001b[1mtrain: \u001b[0mWARNING ⚠️ /home/stimpy/projects/nidar_competition/Dataset/Dataset2/train/train/cam_3_trimmed_00000118.jpg: 1 duplicate labels removed\n",
      "\u001b[34m\u001b[1mtrain: \u001b[0mWARNING ⚠️ /home/stimpy/projects/nidar_competition/Dataset/Dataset2/train/train/cam_3_trimmed_00000126.jpg: 1 duplicate labels removed\n",
      "\u001b[34m\u001b[1mtrain: \u001b[0mWARNING ⚠️ /home/stimpy/projects/nidar_competition/Dataset/Dataset2/train/train/cam_3_trimmed_00000127.jpg: 1 duplicate labels removed\n",
      "\u001b[34m\u001b[1mtrain: \u001b[0mWARNING ⚠️ /home/stimpy/projects/nidar_competition/Dataset/Dataset2/train/train/cam_3_trimmed_00000129.jpg: 1 duplicate labels removed\n",
      "\u001b[34m\u001b[1mtrain: \u001b[0mWARNING ⚠️ /home/stimpy/projects/nidar_competition/Dataset/Dataset2/train/train/cam_3_trimmed_00000130.jpg: 1 duplicate labels removed\n",
      "\u001b[34m\u001b[1mtrain: \u001b[0mWARNING ⚠️ /home/stimpy/projects/nidar_competition/Dataset/Dataset2/train/train/cam_3_trimmed_00000131.jpg: 1 duplicate labels removed\n",
      "\u001b[34m\u001b[1mtrain: \u001b[0mWARNING ⚠️ /home/stimpy/projects/nidar_competition/Dataset/Dataset2/train/train/cam_5_trimmed_00000051.jpg: 1 duplicate labels removed\n",
      "\u001b[34m\u001b[1mtrain: \u001b[0mWARNING ⚠️ /home/stimpy/projects/nidar_competition/Dataset/Dataset2/train/train/cam_5_trimmed_00000052.jpg: 3 duplicate labels removed\n",
      "\u001b[34m\u001b[1mtrain: \u001b[0mWARNING ⚠️ /home/stimpy/projects/nidar_competition/Dataset/Dataset2/train/train/cam_5_trimmed_00000053.jpg: 2 duplicate labels removed\n",
      "\u001b[34m\u001b[1mtrain: \u001b[0mWARNING ⚠️ /home/stimpy/projects/nidar_competition/Dataset/Dataset2/train/train/cam_5_trimmed_00000054.jpg: 10 duplicate labels removed\n",
      "\u001b[34m\u001b[1mtrain: \u001b[0mWARNING ⚠️ /home/stimpy/projects/nidar_competition/Dataset/Dataset2/train/train/cam_5_trimmed_00000055.jpg: 9 duplicate labels removed\n",
      "\u001b[34m\u001b[1mtrain: \u001b[0mWARNING ⚠️ /home/stimpy/projects/nidar_competition/Dataset/Dataset2/train/train/cam_5_trimmed_00000056.jpg: 6 duplicate labels removed\n",
      "\u001b[34m\u001b[1mtrain: \u001b[0mWARNING ⚠️ /home/stimpy/projects/nidar_competition/Dataset/Dataset2/train/train/cam_5_trimmed_00000057.jpg: 2 duplicate labels removed\n",
      "\u001b[34m\u001b[1mtrain: \u001b[0mWARNING ⚠️ /home/stimpy/projects/nidar_competition/Dataset/Dataset2/train/train/cam_5_trimmed_00000058.jpg: 5 duplicate labels removed\n",
      "\u001b[34m\u001b[1mtrain: \u001b[0mWARNING ⚠️ /home/stimpy/projects/nidar_competition/Dataset/Dataset2/train/train/cam_5_trimmed_00000059.jpg: 5 duplicate labels removed\n",
      "\u001b[34m\u001b[1mtrain: \u001b[0mWARNING ⚠️ /home/stimpy/projects/nidar_competition/Dataset/Dataset2/train/train/cam_5_trimmed_00000060.jpg: 6 duplicate labels removed\n",
      "\u001b[34m\u001b[1mtrain: \u001b[0mWARNING ⚠️ /home/stimpy/projects/nidar_competition/Dataset/Dataset2/train/train/cam_5_trimmed_00000061.jpg: 4 duplicate labels removed\n",
      "\u001b[34m\u001b[1mtrain: \u001b[0mWARNING ⚠️ /home/stimpy/projects/nidar_competition/Dataset/Dataset2/train/train/cam_5_trimmed_00000062.jpg: 6 duplicate labels removed\n",
      "\u001b[34m\u001b[1mtrain: \u001b[0mWARNING ⚠️ /home/stimpy/projects/nidar_competition/Dataset/Dataset2/train/train/cam_5_trimmed_00000063.jpg: 5 duplicate labels removed\n",
      "\u001b[34m\u001b[1mtrain: \u001b[0mWARNING ⚠️ /home/stimpy/projects/nidar_competition/Dataset/Dataset2/train/train/cam_5_trimmed_00000064.jpg: 7 duplicate labels removed\n",
      "\u001b[34m\u001b[1mtrain: \u001b[0mWARNING ⚠️ /home/stimpy/projects/nidar_competition/Dataset/Dataset2/train/train/cam_5_trimmed_00000065.jpg: 5 duplicate labels removed\n",
      "\u001b[34m\u001b[1mtrain: \u001b[0mWARNING ⚠️ /home/stimpy/projects/nidar_competition/Dataset/Dataset2/train/train/cam_5_trimmed_00000066.jpg: 6 duplicate labels removed\n",
      "\u001b[34m\u001b[1mtrain: \u001b[0mWARNING ⚠️ /home/stimpy/projects/nidar_competition/Dataset/Dataset2/train/train/cam_5_trimmed_00000067.jpg: 3 duplicate labels removed\n",
      "\u001b[34m\u001b[1mtrain: \u001b[0mWARNING ⚠️ /home/stimpy/projects/nidar_competition/Dataset/Dataset2/train/train/cam_5_trimmed_00000068.jpg: 1 duplicate labels removed\n",
      "\u001b[34m\u001b[1mtrain: \u001b[0mWARNING ⚠️ /home/stimpy/projects/nidar_competition/Dataset/Dataset2/train/train/cam_5_trimmed_00000069.jpg: 4 duplicate labels removed\n",
      "\u001b[34m\u001b[1mtrain: \u001b[0mWARNING ⚠️ /home/stimpy/projects/nidar_competition/Dataset/Dataset2/train/train/cam_5_trimmed_00000070.jpg: 2 duplicate labels removed\n",
      "\u001b[34m\u001b[1mtrain: \u001b[0mWARNING ⚠️ /home/stimpy/projects/nidar_competition/Dataset/Dataset2/train/train/cam_5_trimmed_00000071.jpg: 3 duplicate labels removed\n",
      "\u001b[34m\u001b[1mtrain: \u001b[0mWARNING ⚠️ /home/stimpy/projects/nidar_competition/Dataset/Dataset2/train/train/cam_5_trimmed_00000072.jpg: 3 duplicate labels removed\n",
      "\u001b[34m\u001b[1mtrain: \u001b[0mWARNING ⚠️ /home/stimpy/projects/nidar_competition/Dataset/Dataset2/train/train/cam_5_trimmed_00000073.jpg: 3 duplicate labels removed\n",
      "\u001b[34m\u001b[1mtrain: \u001b[0mWARNING ⚠️ /home/stimpy/projects/nidar_competition/Dataset/Dataset2/train/train/cam_5_trimmed_00000074.jpg: 3 duplicate labels removed\n",
      "\u001b[34m\u001b[1mtrain: \u001b[0mWARNING ⚠️ /home/stimpy/projects/nidar_competition/Dataset/Dataset2/train/train/cam_5_trimmed_00000075.jpg: 1 duplicate labels removed\n",
      "\u001b[34m\u001b[1mtrain: \u001b[0mWARNING ⚠️ /home/stimpy/projects/nidar_competition/Dataset/Dataset2/train/train/cam_5_trimmed_00000076.jpg: 3 duplicate labels removed\n",
      "\u001b[34m\u001b[1mtrain: \u001b[0mWARNING ⚠️ /home/stimpy/projects/nidar_competition/Dataset/Dataset2/train/train/cam_5_trimmed_00000077.jpg: 2 duplicate labels removed\n",
      "\u001b[34m\u001b[1mtrain: \u001b[0mWARNING ⚠️ /home/stimpy/projects/nidar_competition/Dataset/Dataset2/train/train/cam_5_trimmed_00000078.jpg: 4 duplicate labels removed\n",
      "\u001b[34m\u001b[1mtrain: \u001b[0mWARNING ⚠️ /home/stimpy/projects/nidar_competition/Dataset/Dataset2/train/train/cam_5_trimmed_00000079.jpg: 3 duplicate labels removed\n",
      "\u001b[34m\u001b[1mtrain: \u001b[0mWARNING ⚠️ /home/stimpy/projects/nidar_competition/Dataset/Dataset2/train/train/cam_5_trimmed_00000080.jpg: 3 duplicate labels removed\n",
      "\u001b[34m\u001b[1mtrain: \u001b[0mWARNING ⚠️ /home/stimpy/projects/nidar_competition/Dataset/Dataset2/train/train/cam_5_trimmed_00000081.jpg: 6 duplicate labels removed\n",
      "\u001b[34m\u001b[1mtrain: \u001b[0mWARNING ⚠️ /home/stimpy/projects/nidar_competition/Dataset/Dataset2/train/train/cam_5_trimmed_00000082.jpg: 4 duplicate labels removed\n",
      "\u001b[34m\u001b[1mtrain: \u001b[0mWARNING ⚠️ /home/stimpy/projects/nidar_competition/Dataset/Dataset2/train/train/cam_5_trimmed_00000083.jpg: 4 duplicate labels removed\n",
      "\u001b[34m\u001b[1mtrain: \u001b[0mWARNING ⚠️ /home/stimpy/projects/nidar_competition/Dataset/Dataset2/train/train/cam_5_trimmed_00000084.jpg: 4 duplicate labels removed\n",
      "\u001b[34m\u001b[1mtrain: \u001b[0mWARNING ⚠️ /home/stimpy/projects/nidar_competition/Dataset/Dataset2/train/train/cam_5_trimmed_00000085.jpg: 4 duplicate labels removed\n",
      "\u001b[34m\u001b[1mtrain: \u001b[0mWARNING ⚠️ /home/stimpy/projects/nidar_competition/Dataset/Dataset2/train/train/cam_5_trimmed_00000086.jpg: 4 duplicate labels removed\n",
      "\u001b[34m\u001b[1mtrain: \u001b[0mWARNING ⚠️ /home/stimpy/projects/nidar_competition/Dataset/Dataset2/train/train/cam_5_trimmed_00000087.jpg: 5 duplicate labels removed\n",
      "\u001b[34m\u001b[1mtrain: \u001b[0mWARNING ⚠️ /home/stimpy/projects/nidar_competition/Dataset/Dataset2/train/train/cam_5_trimmed_00000088.jpg: 4 duplicate labels removed\n",
      "\u001b[34m\u001b[1mtrain: \u001b[0mWARNING ⚠️ /home/stimpy/projects/nidar_competition/Dataset/Dataset2/train/train/cam_5_trimmed_00000089.jpg: 4 duplicate labels removed\n",
      "\u001b[34m\u001b[1mtrain: \u001b[0mWARNING ⚠️ /home/stimpy/projects/nidar_competition/Dataset/Dataset2/train/train/cam_5_trimmed_00000090.jpg: 3 duplicate labels removed\n",
      "\u001b[34m\u001b[1mtrain: \u001b[0mWARNING ⚠️ /home/stimpy/projects/nidar_competition/Dataset/Dataset2/train/train/cam_5_trimmed_00000091.jpg: 3 duplicate labels removed\n",
      "\u001b[34m\u001b[1mtrain: \u001b[0mWARNING ⚠️ /home/stimpy/projects/nidar_competition/Dataset/Dataset2/train/train/cam_5_trimmed_00000092.jpg: 5 duplicate labels removed\n",
      "\u001b[34m\u001b[1mtrain: \u001b[0mWARNING ⚠️ /home/stimpy/projects/nidar_competition/Dataset/Dataset2/train/train/cam_5_trimmed_00000093.jpg: 4 duplicate labels removed\n",
      "\u001b[34m\u001b[1mtrain: \u001b[0mWARNING ⚠️ /home/stimpy/projects/nidar_competition/Dataset/Dataset2/train/train/cam_5_trimmed_00000094.jpg: 4 duplicate labels removed\n",
      "\u001b[34m\u001b[1mtrain: \u001b[0mWARNING ⚠️ /home/stimpy/projects/nidar_competition/Dataset/Dataset2/train/train/cam_5_trimmed_00000095.jpg: 4 duplicate labels removed\n",
      "\u001b[34m\u001b[1mtrain: \u001b[0mWARNING ⚠️ /home/stimpy/projects/nidar_competition/Dataset/Dataset2/train/train/cam_5_trimmed_00000096.jpg: 3 duplicate labels removed\n",
      "\u001b[34m\u001b[1mtrain: \u001b[0mWARNING ⚠️ /home/stimpy/projects/nidar_competition/Dataset/Dataset2/train/train/cam_5_trimmed_00000097.jpg: 4 duplicate labels removed\n",
      "\u001b[34m\u001b[1mtrain: \u001b[0mWARNING ⚠️ /home/stimpy/projects/nidar_competition/Dataset/Dataset2/train/train/cam_5_trimmed_00000098.jpg: 3 duplicate labels removed\n",
      "\u001b[34m\u001b[1mtrain: \u001b[0mWARNING ⚠️ /home/stimpy/projects/nidar_competition/Dataset/Dataset2/train/train/cam_5_trimmed_00000099.jpg: 4 duplicate labels removed\n",
      "\u001b[34m\u001b[1mtrain: \u001b[0mWARNING ⚠️ /home/stimpy/projects/nidar_competition/Dataset/Dataset2/train/train/cam_5_trimmed_00000100.jpg: 4 duplicate labels removed\n",
      "\u001b[34m\u001b[1mtrain: \u001b[0mWARNING ⚠️ /home/stimpy/projects/nidar_competition/Dataset/Dataset2/train/train/cam_5_trimmed_00000101.jpg: 3 duplicate labels removed\n",
      "\u001b[34m\u001b[1mtrain: \u001b[0mWARNING ⚠️ /home/stimpy/projects/nidar_competition/Dataset/Dataset2/train/train/cam_5_trimmed_00000102.jpg: 4 duplicate labels removed\n",
      "\u001b[34m\u001b[1mtrain: \u001b[0mWARNING ⚠️ /home/stimpy/projects/nidar_competition/Dataset/Dataset2/train/train/cam_5_trimmed_00000103.jpg: 2 duplicate labels removed\n",
      "\u001b[34m\u001b[1mtrain: \u001b[0mWARNING ⚠️ /home/stimpy/projects/nidar_competition/Dataset/Dataset2/train/train/cam_5_trimmed_00000104.jpg: 2 duplicate labels removed\n",
      "\u001b[34m\u001b[1mtrain: \u001b[0mWARNING ⚠️ /home/stimpy/projects/nidar_competition/Dataset/Dataset2/train/train/cam_5_trimmed_00000105.jpg: 3 duplicate labels removed\n",
      "\u001b[34m\u001b[1mtrain: \u001b[0mWARNING ⚠️ /home/stimpy/projects/nidar_competition/Dataset/Dataset2/train/train/cam_5_trimmed_00000106.jpg: 2 duplicate labels removed\n",
      "\u001b[34m\u001b[1mtrain: \u001b[0mWARNING ⚠️ /home/stimpy/projects/nidar_competition/Dataset/Dataset2/train/train/cam_5_trimmed_00000107.jpg: 3 duplicate labels removed\n",
      "\u001b[34m\u001b[1mtrain: \u001b[0mWARNING ⚠️ /home/stimpy/projects/nidar_competition/Dataset/Dataset2/train/train/cam_5_trimmed_00000108.jpg: 2 duplicate labels removed\n",
      "\u001b[34m\u001b[1mtrain: \u001b[0mWARNING ⚠️ /home/stimpy/projects/nidar_competition/Dataset/Dataset2/train/train/cam_5_trimmed_00000109.jpg: 3 duplicate labels removed\n",
      "\u001b[34m\u001b[1mtrain: \u001b[0mWARNING ⚠️ /home/stimpy/projects/nidar_competition/Dataset/Dataset2/train/train/cam_5_trimmed_00000110.jpg: 3 duplicate labels removed\n",
      "\u001b[34m\u001b[1mtrain: \u001b[0mWARNING ⚠️ /home/stimpy/projects/nidar_competition/Dataset/Dataset2/train/train/cam_5_trimmed_00000111.jpg: 4 duplicate labels removed\n",
      "\u001b[34m\u001b[1mtrain: \u001b[0mWARNING ⚠️ /home/stimpy/projects/nidar_competition/Dataset/Dataset2/train/train/cam_5_trimmed_00000112.jpg: 3 duplicate labels removed\n",
      "\u001b[34m\u001b[1mtrain: \u001b[0mWARNING ⚠️ /home/stimpy/projects/nidar_competition/Dataset/Dataset2/train/train/cam_5_trimmed_00000113.jpg: 3 duplicate labels removed\n",
      "\u001b[34m\u001b[1mtrain: \u001b[0mWARNING ⚠️ /home/stimpy/projects/nidar_competition/Dataset/Dataset2/train/train/cam_5_trimmed_00000114.jpg: 3 duplicate labels removed\n",
      "\u001b[34m\u001b[1mtrain: \u001b[0mWARNING ⚠️ /home/stimpy/projects/nidar_competition/Dataset/Dataset2/train/train/cam_5_trimmed_00000115.jpg: 2 duplicate labels removed\n",
      "\u001b[34m\u001b[1mtrain: \u001b[0mWARNING ⚠️ /home/stimpy/projects/nidar_competition/Dataset/Dataset2/train/train/cam_5_trimmed_00000116.jpg: 2 duplicate labels removed\n",
      "\u001b[34m\u001b[1mtrain: \u001b[0mWARNING ⚠️ /home/stimpy/projects/nidar_competition/Dataset/Dataset2/train/train/cam_5_trimmed_00000117.jpg: 2 duplicate labels removed\n",
      "\u001b[34m\u001b[1mtrain: \u001b[0mWARNING ⚠️ /home/stimpy/projects/nidar_competition/Dataset/Dataset2/train/train/cam_5_trimmed_00000118.jpg: 2 duplicate labels removed\n",
      "\u001b[34m\u001b[1mtrain: \u001b[0mWARNING ⚠️ /home/stimpy/projects/nidar_competition/Dataset/Dataset2/train/train/cam_5_trimmed_00000119.jpg: 2 duplicate labels removed\n",
      "\u001b[34m\u001b[1mtrain: \u001b[0mWARNING ⚠️ /home/stimpy/projects/nidar_competition/Dataset/Dataset2/train/train/cam_5_trimmed_00000120.jpg: 3 duplicate labels removed\n",
      "\u001b[34m\u001b[1mtrain: \u001b[0mWARNING ⚠️ /home/stimpy/projects/nidar_competition/Dataset/Dataset2/train/train/cam_5_trimmed_00000121.jpg: 2 duplicate labels removed\n",
      "\u001b[34m\u001b[1mtrain: \u001b[0mWARNING ⚠️ /home/stimpy/projects/nidar_competition/Dataset/Dataset2/train/train/cam_5_trimmed_00000122.jpg: 2 duplicate labels removed\n",
      "\u001b[34m\u001b[1mtrain: \u001b[0mWARNING ⚠️ /home/stimpy/projects/nidar_competition/Dataset/Dataset2/train/train/cam_5_trimmed_00000123.jpg: 3 duplicate labels removed\n",
      "\u001b[34m\u001b[1mtrain: \u001b[0mWARNING ⚠️ /home/stimpy/projects/nidar_competition/Dataset/Dataset2/train/train/cam_5_trimmed_00000124.jpg: 2 duplicate labels removed\n",
      "\u001b[34m\u001b[1mtrain: \u001b[0mWARNING ⚠️ /home/stimpy/projects/nidar_competition/Dataset/Dataset2/train/train/cam_5_trimmed_00000125.jpg: 2 duplicate labels removed\n",
      "\u001b[34m\u001b[1mtrain: \u001b[0mWARNING ⚠️ /home/stimpy/projects/nidar_competition/Dataset/Dataset2/train/train/cam_5_trimmed_00000126.jpg: 2 duplicate labels removed\n",
      "\u001b[34m\u001b[1mtrain: \u001b[0mWARNING ⚠️ /home/stimpy/projects/nidar_competition/Dataset/Dataset2/train/train/cam_5_trimmed_00000127.jpg: 2 duplicate labels removed\n",
      "\u001b[34m\u001b[1mtrain: \u001b[0mWARNING ⚠️ /home/stimpy/projects/nidar_competition/Dataset/Dataset2/train/train/cam_5_trimmed_00000128.jpg: 2 duplicate labels removed\n",
      "\u001b[34m\u001b[1mtrain: \u001b[0mWARNING ⚠️ /home/stimpy/projects/nidar_competition/Dataset/Dataset2/train/train/cam_5_trimmed_00000129.jpg: 2 duplicate labels removed\n",
      "\u001b[34m\u001b[1mtrain: \u001b[0mWARNING ⚠️ /home/stimpy/projects/nidar_competition/Dataset/Dataset2/train/train/cam_5_trimmed_00000130.jpg: 3 duplicate labels removed\n",
      "\u001b[34m\u001b[1mtrain: \u001b[0mWARNING ⚠️ /home/stimpy/projects/nidar_competition/Dataset/Dataset2/train/train/cam_5_trimmed_00000131.jpg: 3 duplicate labels removed\n",
      "\u001b[34m\u001b[1mtrain: \u001b[0mWARNING ⚠️ /home/stimpy/projects/nidar_competition/Dataset/Dataset2/train/train/cam_5_trimmed_00000132.jpg: 3 duplicate labels removed\n",
      "\u001b[34m\u001b[1mtrain: \u001b[0mWARNING ⚠️ /home/stimpy/projects/nidar_competition/Dataset/Dataset2/train/train/cam_5_trimmed_00000133.jpg: 2 duplicate labels removed\n",
      "\u001b[34m\u001b[1mtrain: \u001b[0mWARNING ⚠️ /home/stimpy/projects/nidar_competition/Dataset/Dataset2/train/train/cam_5_trimmed_00000134.jpg: 3 duplicate labels removed\n",
      "\u001b[34m\u001b[1mtrain: \u001b[0mWARNING ⚠️ /home/stimpy/projects/nidar_competition/Dataset/Dataset2/train/train/cam_5_trimmed_00000135.jpg: 2 duplicate labels removed\n",
      "\u001b[34m\u001b[1mtrain: \u001b[0mWARNING ⚠️ /home/stimpy/projects/nidar_competition/Dataset/Dataset2/train/train/cam_6_2_and_helf_mins_00000026.jpg: 3 duplicate labels removed\n",
      "\u001b[34m\u001b[1mtrain: \u001b[0mWARNING ⚠️ /home/stimpy/projects/nidar_competition/Dataset/Dataset2/train/train/cam_6_2_and_helf_mins_00000333.jpg: 7 duplicate labels removed\n",
      "\u001b[34m\u001b[1mtrain: \u001b[0mWARNING ⚠️ /home/stimpy/projects/nidar_competition/Dataset/Dataset2/train/train/cam_6_train_00000205.jpg: 18 duplicate labels removed\n"
     ]
    },
    {
     "name": "stderr",
     "output_type": "stream",
     "text": [
      "\n",
      "\u001b[34m\u001b[1mval: \u001b[0mScanning /home/stimpy/projects/nidar_competition/Dataset/Dataset2/test/test.cache... 148 images, 0 backgrounds, 0 corrupt: 100%|██████████| 148/148 [00:00<?, ?it/s]\n"
     ]
    },
    {
     "name": "stdout",
     "output_type": "stream",
     "text": [
      "Plotting labels to runs/detect/person_detector5/labels.jpg... \n",
      "\u001b[34m\u001b[1moptimizer:\u001b[0m 'optimizer=auto' found, ignoring 'lr0=0.01' and 'momentum=0.937' and determining best 'optimizer', 'lr0' and 'momentum' automatically... \n",
      "\u001b[34m\u001b[1moptimizer:\u001b[0m AdamW(lr=0.002, momentum=0.9) with parameter groups 57 weight(decay=0.0), 64 weight(decay=0.0005), 63 bias(decay=0.0)\n",
      "Image sizes 640 train, 640 val\n",
      "Using 8 dataloader workers\n",
      "Logging results to \u001b[1mruns/detect/person_detector5\u001b[0m\n",
      "Starting training for 10 epochs...\n",
      "Closing dataloader mosaic\n",
      "\n",
      "      Epoch    GPU_mem   box_loss   cls_loss   dfl_loss  Instances       Size\n"
     ]
    },
    {
     "name": "stderr",
     "output_type": "stream",
     "text": [
      "  0%|          | 0/269 [00:00<?, ?it/s]"
     ]
    }
   ],
   "source": [
    "from ultralytics import YOLO\n",
    "\n",
    "# 1. Load a pre-trained YOLOv8 model (e.g., yolov8n.pt, yolov8s.pt)\n",
    "model = YOLO('yolov8n.pt')  # You can use 'yolov8s.pt', 'yolov8m.pt', etc.\n",
    "\n",
    "# 2. Fine-tune the model on your custom dataset\n",
    "results = model.train(\n",
    "    data='data2.yaml',    # Path to your custom data.yaml file\n",
    "    imgsz=640,           # Input image size (all images will be resized to 640x640)\n",
    "    epochs=10,          # Number of training epochs\n",
    "    batch=16,            # Batch size (adjust based on your GPU memory)\n",
    "    name='person_detector' # Name for the training run\n",
    ")\n",
    "\n",
    "# 3. Evaluate the model on the validation set\n",
    "metrics = model.val()\n",
    "\n",
    "# 4. Save the fine-tuned model explicitly (optional, as best.pt is auto-saved)\n",
    "model.save('overhead_person_detection.pt')\n"
   ]
  }
 ],
 "metadata": {
  "kernelspec": {
   "display_name": "yolo",
   "language": "python",
   "name": "python3"
  },
  "language_info": {
   "codemirror_mode": {
    "name": "ipython",
    "version": 3
   },
   "file_extension": ".py",
   "mimetype": "text/x-python",
   "name": "python",
   "nbconvert_exporter": "python",
   "pygments_lexer": "ipython3",
   "version": "3.8.20"
  }
 },
 "nbformat": 4,
 "nbformat_minor": 5
}
