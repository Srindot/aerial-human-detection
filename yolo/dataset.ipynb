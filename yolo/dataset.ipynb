{
 "cells": [
  {
   "cell_type": "markdown",
   "id": "15a847fb",
   "metadata": {},
   "source": [
    "# To Check Dataset"
   ]
  },
  {
   "cell_type": "markdown",
   "id": "4b83b588",
   "metadata": {},
   "source": []
  }
 ],
 "metadata": {
  "kernelspec": {
   "display_name": "yolo",
   "language": "python",
   "name": "python3"
  },
  "language_info": {
   "name": "python",
   "version": "3.8.20"
  }
 },
 "nbformat": 4,
 "nbformat_minor": 5
}
